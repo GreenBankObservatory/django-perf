{
 "cells": [
  {
   "cell_type": "markdown",
   "id": "95b65d92-fa7b-401f-9218-20fee7b39f6e",
   "metadata": {
    "tags": []
   },
   "source": [
    "# Django ORM Performance Optimization\n",
    "\n",
    "- The N+1 Queries Problem\n",
    "- Over-querying\n",
    "- Doing too much \"in Python\""
   ]
  },
  {
   "cell_type": "markdown",
   "id": "5a4b63a2-b2d2-452b-9104-511389822270",
   "metadata": {
    "tags": []
   },
   "source": [
    "## Setup"
   ]
  },
  {
   "cell_type": "code",
   "execution_count": null,
   "id": "53b2ccbc-38b4-44ab-bc47-4d5b34290845",
   "metadata": {
    "jupyter": {
     "source_hidden": true
    },
    "tags": []
   },
   "outputs": [],
   "source": [
    "import time\n",
    "import os\n",
    "os.environ[\"DJANGO_SETTINGS_MODULE\"] = \"django_orm_performance_demo.settings\"\n",
    "\n",
    "import sqlparse\n",
    "\n",
    "import django\n",
    "\n",
    "from django.db import connection\n",
    "django.setup()\n",
    "\n",
    "# Disable errors about SynchronousOnlyOperation\n",
    "os.environ[\"DJANGO_ALLOW_ASYNC_UNSAFE\"] = \"true\""
   ]
  },
  {
   "cell_type": "code",
   "execution_count": null,
   "id": "850ad7c5-ffd6-4877-abb2-2ebac39ce842",
   "metadata": {
    "jupyter": {
     "source_hidden": true
    },
    "tags": []
   },
   "outputs": [],
   "source": [
    "\"\"\"Init Logging\"\"\"\n",
    "import logging\n",
    "import sys\n",
    "\n",
    "from collections import defaultdict\n",
    "\n",
    "ALL_QUERIES = []\n",
    "UNIQUE_QUERIES = defaultdict(int)\n",
    "\n",
    "class SqlLoggerHandler(logging.Handler):\n",
    "    def __init__(self, level=logging.NOTSET):\n",
    "        super(self.__class__, self).__init__(level)\n",
    "\n",
    "    def emit(self, record):\n",
    "        try:\n",
    "            # msg = self.format(record.sql)\n",
    "            formatted_sql = sqlparse.format(record.sql, reindent=True, keyword_case='upper')\n",
    "            sys.stdout.flush()\n",
    "            print(formatted_sql, file=sys.stderr, flush=True)\n",
    "            ALL_QUERIES.append(record)\n",
    "            \n",
    "            UNIQUE_QUERIES[record.sql] += 1\n",
    "        except (KeyboardInterrupt, SystemExit):\n",
    "            raise\n",
    "        except:\n",
    "            self.handleError(record)\n",
    "        \n",
    "\n",
    "db_logger = logging.getLogger(\"django.db.backends\")\n",
    "db_logger.setLevel(logging.DEBUG)\n",
    "console_handler = SqlLoggerHandler()\n",
    "console_handler.setFormatter(logging.Formatter(\"%(levelname)s %(asctime)s %(message)s\"))\n",
    "db_logger.addHandler(console_handler)"
   ]
  },
  {
   "cell_type": "code",
   "execution_count": null,
   "id": "c397f50e-018a-4f88-825d-64608e0fe928",
   "metadata": {
    "tags": []
   },
   "outputs": [],
   "source": [
    "class Benchmark:\n",
    "    def __init__(self, description=None, logger=None):\n",
    "        # Reset ALL_QUERIES\n",
    "        global ALL_QUERIES\n",
    "        ALL_QUERIES = []\n",
    "        # Reset UNIQUE_QUERIES\n",
    "        global UNIQUE_QUERIES\n",
    "        UNIQUE_QUERIES = defaultdict(int)\n",
    "\n",
    "        self.start_time = time.perf_counter()\n",
    "        self.num_initial_queries = len(ALL_QUERIES)\n",
    "        self.logger = logger if logger else print\n",
    "        self.description = \"Did stuff\" if description is None else description\n",
    "\n",
    "    def __enter__(self):\n",
    "        pass\n",
    "\n",
    "    def __exit__(self, type, value, traceback):\n",
    "        end_time = time.perf_counter()\n",
    "        num_final_queries = len(ALL_QUERIES)\n",
    "        num_queries = num_final_queries - self.num_initial_queries\n",
    "        total_query_time = sum(float(q.duration) for q in ALL_QUERIES)\n",
    "        self.logger(\n",
    "            f\"{self.description}: {num_queries} quer{'y' if num_queries == 1 else 'ies'} \"\n",
    "            f\"({len(UNIQUE_QUERIES)} unique) in {total_query_time:.3f} seconds; \"\n",
    "            f\"{end_time - self.start_time:.4f} seconds total\",\n",
    "            flush=True\n",
    "        )\n"
   ]
  },
  {
   "cell_type": "markdown",
   "id": "91816192-ae2d-400c-85d5-bec514d116f1",
   "metadata": {
    "tags": []
   },
   "source": [
    "## Background\n",
    "\n",
    "### Intro to Django ORM\n",
    "\n",
    "For those who have never used Django before, here's a very quick intro to its ORM (model layer)\n",
    "\n",
    "This is the `person` database table:\n",
    "\n",
    "```plain\n",
    "                         Table \"public.people_person\"\n",
    " Column  |  Type  |                         Modifiers                          \n",
    "---------+--------+------------------------------------------------------------\n",
    " id      | bigint | not null default nextval('people_person_id_seq'::regclass)\n",
    " name    | text   | not null\n",
    " notes   | text   | not null\n",
    " site_id | bigint | not null\n",
    "Indexes:\n",
    "    \"people_person_pkey\" PRIMARY KEY, btree (id)\n",
    "    \"people_person_site_id_4c070efc\" btree (site_id)\n",
    "Foreign-key constraints:\n",
    "    \"people_person_site_id_4c070efc_fk_people_site_id\" FOREIGN KEY (site_id) REFERENCES people_site(id) DEFERRABLE INITIALLY DEFERRED\n",
    "```\n",
    "\n",
    "And here is the `Person` model. This was used to generate the above schema, and is also used to interact with it at runtime.\n",
    "\n",
    "```python\n",
    "class Person(models.Model):\n",
    "    name = models.TextField()\n",
    "    site = models.ForeignKey(\"Site\", on_delete=models.CASCADE)\n",
    "    notes = models.TextField()\n",
    "```\n",
    "\n",
    "\n",
    "This is the full model layer we will be using:\n",
    "\n",
    "```python\n",
    "from django.db import models\n",
    "\n",
    "\n",
    "class Person(models.Model):\n",
    "    name = models.TextField()\n",
    "    site = models.ForeignKey(\"Site\", on_delete=models.CASCADE)\n",
    "    notes = models.TextField()\n",
    "\n",
    "    def __str__(self):\n",
    "        return self.name\n",
    "\n",
    "\n",
    "class Observatory(models.Model):\n",
    "    name = models.TextField()\n",
    "\n",
    "    def __str__(self):\n",
    "        return self.name\n",
    "\n",
    "\n",
    "class Site(models.Model):\n",
    "    name = models.TextField()\n",
    "    observatory = models.ForeignKey(\"Observatory\", on_delete=models.CASCADE)\n",
    "\n",
    "    def __str__(self):\n",
    "        return self.name\n",
    "```\n",
    "\n",
    "Or in ERD form:\n",
    "\n",
    "![People Models ERD](./people_erd.png)"
   ]
  },
  {
   "cell_type": "markdown",
   "id": "d33d1768-ce30-4d3b-8386-30d448d47c3f",
   "metadata": {},
   "source": [
    "## Basic Queries\n",
    "\n",
    "### Count People\n",
    "\n",
    "It is trivial to construct a query using the Django ORM. For example, to find out how many `Person`s are in the database, we can:"
   ]
  },
  {
   "cell_type": "code",
   "execution_count": null,
   "id": "211829ed-ba8e-40bf-9436-37b6ea32cb41",
   "metadata": {},
   "outputs": [
    {
     "name": "stderr",
     "output_type": "stream",
     "text": [
      "SELECT COUNT(*) AS \"__count\"\n",
      "FROM \"people_person\"\n"
     ]
    },
    {
     "name": "stdout",
     "output_type": "stream",
     "text": [
      "count_people: 1 query (1 unique) in 0.007 seconds; 0.0378 seconds total\n"
     ]
    }
   ],
   "source": [
    "from people.models import Person\n",
    "\n",
    "def count_people():\n",
    "    Person.objects.count()\n",
    "\n",
    "with Benchmark(\"count_people\"):\n",
    "    count_people()"
   ]
  },
  {
   "cell_type": "markdown",
   "id": "359390c4-6751-4f7a-b402-3e1552126259",
   "metadata": {},
   "source": [
    "Easy enough -- this is pretty much what you would write by hand\n",
    "\n",
    "## Print People\n",
    "\n",
    "Let's print the first 5 people in the database"
   ]
  },
  {
   "cell_type": "code",
   "execution_count": null,
   "id": "a8210cb3-9778-41d9-8684-a92cdea1cf40",
   "metadata": {},
   "outputs": [
    {
     "name": "stderr",
     "output_type": "stream",
     "text": [
      "SELECT \"people_person\".\"id\",\n",
      "       \"people_person\".\"name\",\n",
      "       \"people_person\".\"site_id\",\n",
      "       \"people_person\".\"notes\"\n",
      "FROM \"people_person\"\n",
      "LIMIT 5\n"
     ]
    },
    {
     "name": "stdout",
     "output_type": "stream",
     "text": [
      "Catherine Barry\n",
      "Joel Moore\n",
      "Mark Barber\n",
      "Pamela Crane\n",
      "Heather Reynolds\n",
      "\n",
      "print_5_people: 1 query (1 unique) in 0.004 seconds; 0.0105 seconds total\n"
     ]
    }
   ],
   "source": [
    "from people.models import Person\n",
    "\n",
    "\n",
    "def print_5_people():\n",
    "    # Construct QuerySet\n",
    "    first_five_people = Person.objects.all()[:5]\n",
    "    # Evaluate QuerySet and \n",
    "    for person in first_five_people:\n",
    "        print(person)\n",
    "    print()\n",
    "    \n",
    "with Benchmark(\"print_5_people\"):\n",
    "    print_5_people()"
   ]
  },
  {
   "cell_type": "markdown",
   "id": "32b9aab2-72d7-4919-8aaf-e1bfe24d71c6",
   "metadata": {},
   "source": [
    "What happened?\n",
    "\n",
    "1. Django constructed a `QuerySet` from `Person.objects.all()[:5]`\n",
    "2. Django evaluated the `QuerySet` (excuted the query and populated the relevant attributes of each `Model` instance in the `QuerySet`)"
   ]
  },
  {
   "cell_type": "markdown",
   "id": "313706aa-10ae-4b5a-b404-a100e9581ba4",
   "metadata": {},
   "source": [
    "## The N+1 Problem\n",
    "\n",
    "What happens if we try to print an attribute of a `Person` instance that _isn't_ already populated? Well, Django needs to fetch it from the database!"
   ]
  },
  {
   "cell_type": "code",
   "execution_count": null,
   "id": "2ec8a1dd-b212-4dec-8408-127ccc7fb37f",
   "metadata": {},
   "outputs": [
    {
     "name": "stderr",
     "output_type": "stream",
     "text": [
      "SELECT \"people_person\".\"id\",\n",
      "       \"people_person\".\"name\",\n",
      "       \"people_person\".\"site_id\",\n",
      "       \"people_person\".\"notes\"\n",
      "FROM \"people_person\"\n",
      "LIMIT 2\n",
      "SELECT \"people_site\".\"id\",\n",
      "       \"people_site\".\"name\",\n",
      "       \"people_site\".\"observatory_id\"\n",
      "FROM \"people_site\"\n",
      "WHERE \"people_site\".\"id\" = 3\n",
      "LIMIT 21\n"
     ]
    },
    {
     "name": "stdout",
     "output_type": "stream",
     "text": [
      "Catherine Barry Charlottesville\n"
     ]
    },
    {
     "name": "stderr",
     "output_type": "stream",
     "text": [
      "SELECT \"people_site\".\"id\",\n",
      "       \"people_site\".\"name\",\n",
      "       \"people_site\".\"observatory_id\"\n",
      "FROM \"people_site\"\n",
      "WHERE \"people_site\".\"id\" = 2\n",
      "LIMIT 21\n"
     ]
    },
    {
     "name": "stdout",
     "output_type": "stream",
     "text": [
      "Joel Moore Socorro\n",
      "\n",
      "print_n_people: 3 queries (3 unique) in 0.003 seconds; 0.0209 seconds total\n"
     ]
    }
   ],
   "source": [
    "from people.models import Person\n",
    "\n",
    "def print_n_people(n):\n",
    "    # Construct QuerySet\n",
    "    first_five_people = Person.objects.all()[:n]\n",
    "    # Evaluate QuerySet and \n",
    "    for person in first_five_people:\n",
    "        print(person, person.site)\n",
    "    print()\n",
    "    \n",
    "with Benchmark(\"print_n_people\"):\n",
    "    print_n_people(2)"
   ]
  },
  {
   "cell_type": "markdown",
   "id": "c156fa6f-df14-4fd0-a483-2d2c03c50915",
   "metadata": {
    "tags": []
   },
   "source": [
    "## Mitigations to the N+1 Problem\n",
    "\n",
    "### \"Naive\" Base Case\n",
    "\n",
    "Let's start with a slight modification to the above. We are generating a list of person/observatory/site strings. The naive implementation results in 2N+1 queries:"
   ]
  },
  {
   "cell_type": "code",
   "execution_count": null,
   "id": "1493db6a-f7f0-447d-a7f4-8e69fee24303",
   "metadata": {
    "tags": []
   },
   "outputs": [
    {
     "name": "stderr",
     "output_type": "stream",
     "text": [
      "SELECT \"people_person\".\"id\",\n",
      "       \"people_person\".\"name\",\n",
      "       \"people_person\".\"site_id\",\n",
      "       \"people_person\".\"notes\"\n",
      "FROM \"people_person\"\n",
      "LIMIT 2\n",
      "SELECT \"people_site\".\"id\",\n",
      "       \"people_site\".\"name\",\n",
      "       \"people_site\".\"observatory_id\"\n",
      "FROM \"people_site\"\n",
      "WHERE \"people_site\".\"id\" = 3\n",
      "LIMIT 21\n",
      "SELECT \"people_observatory\".\"id\",\n",
      "       \"people_observatory\".\"name\"\n",
      "FROM \"people_observatory\"\n",
      "WHERE \"people_observatory\".\"id\" = 2\n",
      "LIMIT 21\n",
      "SELECT \"people_site\".\"id\",\n",
      "       \"people_site\".\"name\",\n",
      "       \"people_site\".\"observatory_id\"\n",
      "FROM \"people_site\"\n",
      "WHERE \"people_site\".\"id\" = 2\n",
      "LIMIT 21\n",
      "SELECT \"people_observatory\".\"id\",\n",
      "       \"people_observatory\".\"name\"\n",
      "FROM \"people_observatory\"\n",
      "WHERE \"people_observatory\".\"id\" = 2\n",
      "LIMIT 21\n"
     ]
    },
    {
     "name": "stdout",
     "output_type": "stream",
     "text": [
      "get_people_naive: 5 queries (4 unique) in 0.003 seconds; 0.0276 seconds total\n"
     ]
    }
   ],
   "source": [
    "from people.models import Person\n",
    "\n",
    "def get_people_naive(people):\n",
    "    \"\"\"List person/observatory/site using \"naive\" iteration of Person QuerySet\"\"\"\n",
    "    return [\n",
    "        f\"{person.name}: {person.site.observatory.name}, {person.site.name}\"\n",
    "        for person in people.all()\n",
    "    ]\n",
    "with Benchmark(\"get_people_naive\"):\n",
    "    get_people_naive(Person.objects.all()[:2])"
   ]
  },
  {
   "cell_type": "markdown",
   "id": "a86e67f0-9b70-4e50-a794-5880f1637f11",
   "metadata": {},
   "source": [
    "### `QuerySet.select_related()`\n",
    "\n",
    "[From the Django QuerySet documentation:](https://docs.djangoproject.com/en/3.2/ref/models/querysets/#select-related)\n",
    "\n",
    "> Returns a QuerySet that will “follow” foreign-key relationships, selecting additional related-object data when it executes its query. This is a performance booster which results in a single more complex query but means later use of foreign-key relationships won’t require database queries.\n",
    "\n"
   ]
  },
  {
   "cell_type": "code",
   "execution_count": 14,
   "id": "fb610f94-6476-46c4-a53d-c1f285d1e99c",
   "metadata": {},
   "outputs": [
    {
     "name": "stderr",
     "output_type": "stream",
     "text": [
      "SELECT \"people_person\".\"id\",\n",
      "       \"people_person\".\"name\",\n",
      "       \"people_person\".\"site_id\",\n",
      "       \"people_person\".\"notes\",\n",
      "       \"people_site\".\"id\",\n",
      "       \"people_site\".\"name\",\n",
      "       \"people_site\".\"observatory_id\",\n",
      "       \"people_observatory\".\"id\",\n",
      "       \"people_observatory\".\"name\"\n",
      "FROM \"people_person\"\n",
      "INNER JOIN \"people_site\" ON (\"people_person\".\"site_id\" = \"people_site\".\"id\")\n",
      "INNER JOIN \"people_observatory\" ON (\"people_site\".\"observatory_id\" = \"people_observatory\".\"id\")\n",
      "LIMIT 2\n"
     ]
    },
    {
     "name": "stdout",
     "output_type": "stream",
     "text": [
      "get_people_select_related: 1 query (1 unique) in 0.002 seconds; 0.0142 seconds total\n"
     ]
    }
   ],
   "source": [
    "from people.models import Person\n",
    "\n",
    "def get_people_select_related(people):\n",
    "    \"\"\"List person/observatory/site via iteration of QuerySet using select_related\"\"\"\n",
    "    return [\n",
    "        f\"{person.name}: {person.site.observatory.name}, {person.site.name}\"\n",
    "        for person in people.select_related(\"site__observatory\").all()\n",
    "    ]\n",
    "with Benchmark(\"get_people_select_related\"):\n",
    "    get_people_select_related(Person.objects.all()[:2])"
   ]
  },
  {
   "cell_type": "markdown",
   "id": "0de59d56-f7e2-4aae-b12f-8a9dcaaa979a",
   "metadata": {},
   "source": [
    "Indeed, we have a more complicated query here: two joins, in order to determine the site and observatory names for each person\n",
    "\n",
    "You might be wondering: why are we grabbing _all_ of the columns from each table? Well, Django doesn't know which columns you might want, so it grabs them all!\n",
    "\n",
    "This is important -- QuerySets are often described as _lazy_, but they are actually _greedy_ in this context!\n",
    "\n",
    "However, there is a solution...\n",
    "\n",
    "### `QuerySet.defer()` and `QuerySet.only()`\n",
    "\n",
    "Both of these methods tell Django to fetch only a subset of the fields for the given model when evaluating a `QuerySet`. `QuerySet.defer()` requests all fields _except_ those given; `QuerySet.only()`  requests _only_ the given fields.\n",
    "\n",
    "For us, the field we want to exclude is the `Person.notes` field, which contains a large block of text, and which we are not using at all. We _could_ defer _just_ the `Person.notes` field... but given that we know _exactly_ which fields we need, we can safely use `QuerySet.only()`\n",
    "\n",
    "[See also the Django QuerySet documentation on `QuerySet.only()`](https://docs.djangoproject.com/en/3.2/ref/models/querysets/#django.db.models.query.QuerySet.only)"
   ]
  },
  {
   "cell_type": "code",
   "execution_count": 9,
   "id": "14077386-6be5-4aac-ba20-6b9987aa51a7",
   "metadata": {},
   "outputs": [
    {
     "name": "stderr",
     "output_type": "stream",
     "text": [
      "SELECT \"people_person\".\"id\",\n",
      "       \"people_person\".\"name\",\n",
      "       \"people_person\".\"site_id\",\n",
      "       \"people_site\".\"id\",\n",
      "       \"people_site\".\"name\",\n",
      "       \"people_site\".\"observatory_id\",\n",
      "       \"people_observatory\".\"id\",\n",
      "       \"people_observatory\".\"name\"\n",
      "FROM \"people_person\"\n",
      "INNER JOIN \"people_site\" ON (\"people_person\".\"site_id\" = \"people_site\".\"id\")\n",
      "INNER JOIN \"people_observatory\" ON (\"people_site\".\"observatory_id\" = \"people_observatory\".\"id\")\n"
     ]
    },
    {
     "name": "stdout",
     "output_type": "stream",
     "text": [
      "get_people_select_related_only: 1 query (1 unique) in 0.022 seconds; 0.2914 seconds total\n"
     ]
    }
   ],
   "source": [
    "from people.models import Person\n",
    "\n",
    "def get_people_select_related_only(people):\n",
    "    \"\"\"List person/observatory/site via iteration of QuerySet.only()\"\"\"\n",
    "    return [\n",
    "        f\"{person.name}: {person.site.observatory.name}, {person.site.name}\"\n",
    "        for person in Person.objects.select_related(\"site__observatory\")\n",
    "        .only(\"name\", \"site_id\")\n",
    "        .all()\n",
    "    ]\n",
    "with Benchmark(\"get_people_select_related_only\"):\n",
    "    people = get_people_select_related_only(Person.objects.all()[:2])"
   ]
  },
  {
   "cell_type": "markdown",
   "id": "bedc60bd-074a-490c-a603-fd5d457b57fd",
   "metadata": {},
   "source": [
    "We can see that using `QuerySet.defer()` gives us an identical query:"
   ]
  },
  {
   "cell_type": "code",
   "execution_count": 10,
   "id": "8e689362-9369-4baf-a59f-ae924e6c9f65",
   "metadata": {},
   "outputs": [
    {
     "name": "stderr",
     "output_type": "stream",
     "text": [
      "SELECT \"people_person\".\"id\",\n",
      "       \"people_person\".\"name\",\n",
      "       \"people_person\".\"site_id\",\n",
      "       \"people_site\".\"id\",\n",
      "       \"people_site\".\"name\",\n",
      "       \"people_site\".\"observatory_id\",\n",
      "       \"people_observatory\".\"id\",\n",
      "       \"people_observatory\".\"name\"\n",
      "FROM \"people_person\"\n",
      "INNER JOIN \"people_site\" ON (\"people_person\".\"site_id\" = \"people_site\".\"id\")\n",
      "INNER JOIN \"people_observatory\" ON (\"people_site\".\"observatory_id\" = \"people_observatory\".\"id\")\n",
      "LIMIT 2\n"
     ]
    },
    {
     "name": "stdout",
     "output_type": "stream",
     "text": [
      "get_people_select_related_defer: 1 query (1 unique) in 0.001 seconds; 0.0070 seconds total\n"
     ]
    }
   ],
   "source": [
    "def get_people_select_related_defer(people):\n",
    "    \"\"\"List person/observatory/site via iteration of QuerySet.only()\"\"\"\n",
    "    return [\n",
    "        f\"{person.name}: {person.site.observatory.name}, {person.site.name}\"\n",
    "        for person in people.select_related(\"site__observatory\")\n",
    "        .defer(\"notes\")\n",
    "        .all()\n",
    "    ]\n",
    "with Benchmark(\"get_people_select_related_defer\"):\n",
    "    people = get_people_select_related_defer(Person.objects.all()[:2])"
   ]
  },
  {
   "cell_type": "markdown",
   "id": "6af69e54-6f2c-446c-857e-917dc2ca10ec",
   "metadata": {},
   "source": [
    "### `QuerySet.values()`\n",
    "\n",
    "Performance is now \"pretty good\". However, for many use cases we can speed up by ~5x by using `QuerySet.values()` to create a \"list of dicts\", rather than a \"list of model instances\".\n",
    "\n",
    "The huge caveat here is that _we no longer have access to our model instances_. So, no model methods or non-field attributes are available to us. The challenge, then, is working around that limitation."
   ]
  },
  {
   "cell_type": "code",
   "execution_count": 11,
   "id": "6ed63163-ed72-470d-b5b8-aeadbfd86e7a",
   "metadata": {},
   "outputs": [
    {
     "name": "stderr",
     "output_type": "stream",
     "text": [
      "SELECT \"people_person\".\"name\",\n",
      "       \"people_site\".\"name\",\n",
      "       \"people_observatory\".\"name\"\n",
      "FROM \"people_person\"\n",
      "INNER JOIN \"people_site\" ON (\"people_person\".\"site_id\" = \"people_site\".\"id\")\n",
      "INNER JOIN \"people_observatory\" ON (\"people_site\".\"observatory_id\" = \"people_observatory\".\"id\")\n",
      "LIMIT 2\n"
     ]
    },
    {
     "name": "stdout",
     "output_type": "stream",
     "text": [
      "get_people_values: 1 query (1 unique) in 0.001 seconds; 0.0049 seconds total\n"
     ]
    }
   ],
   "source": [
    "from people.models import Person\n",
    "\n",
    "def get_people_values(people):\n",
    "    \"\"\"List person/observatory/site using explict retrieval of relevant values\"\"\"\n",
    "    return [\n",
    "        (name, observatory, site)\n",
    "        for name, site, observatory in people.values_list(\n",
    "            \"name\", \"site__name\", \"site__observatory__name\"\n",
    "        )\n",
    "    ]\n",
    "with Benchmark(\"get_people_values\"):\n",
    "    people = get_people_values(Person.objects.all()[:2])"
   ]
  },
  {
   "cell_type": "code",
   "execution_count": 12,
   "id": "d4b40fed-dc52-42c6-839a-5fbd61bd377f",
   "metadata": {},
   "outputs": [
    {
     "name": "stderr",
     "output_type": "stream",
     "text": [
      "SELECT \"people_person\".\"id\",\n",
      "       \"people_person\".\"name\",\n",
      "       \"people_person\".\"site_id\"\n",
      "FROM \"people_person\"\n",
      "LIMIT 2\n",
      "SELECT \"people_site\".\"id\",\n",
      "       \"people_site\".\"name\",\n",
      "       \"people_site\".\"observatory_id\"\n",
      "FROM \"people_site\"\n",
      "WHERE \"people_site\".\"id\" = 3\n",
      "LIMIT 21\n",
      "SELECT \"people_observatory\".\"id\",\n",
      "       \"people_observatory\".\"name\"\n",
      "FROM \"people_observatory\"\n",
      "WHERE \"people_observatory\".\"id\" = 2\n",
      "LIMIT 21\n",
      "SELECT \"people_site\".\"id\",\n",
      "       \"people_site\".\"name\",\n",
      "       \"people_site\".\"observatory_id\"\n",
      "FROM \"people_site\"\n",
      "WHERE \"people_site\".\"id\" = 2\n",
      "LIMIT 21\n",
      "SELECT \"people_observatory\".\"id\",\n",
      "       \"people_observatory\".\"name\"\n",
      "FROM \"people_observatory\"\n",
      "WHERE \"people_observatory\".\"id\" = 2\n",
      "LIMIT 21\n"
     ]
    },
    {
     "name": "stdout",
     "output_type": "stream",
     "text": [
      "get_people_qs_only: 5 queries (4 unique) in 0.002 seconds; 0.0152 seconds total\n"
     ]
    }
   ],
   "source": [
    "db_logger.setLevel(logging.DEBUG)\n",
    "def get_people_qs_only(people):\n",
    "    \"\"\"List person/observatory/site via iteration of QuerySet.only()\"\"\"\n",
    "    return [\n",
    "        (person, person.site.observatory, person.site)\n",
    "        for person in people.only(\"name\", \"site_id\").all()\n",
    "    ]\n",
    "\n",
    "with Benchmark(\"get_people_qs_only\"):\n",
    "    qs = get_people_qs_only(Person.objects.all()[:2])\n"
   ]
  },
  {
   "cell_type": "markdown",
   "id": "6dcae822-27db-48dc-b451-6dae2bc0fa1d",
   "metadata": {},
   "source": [
    "## Benchmarks\n"
   ]
  },
  {
   "cell_type": "code",
   "execution_count": 13,
   "id": "89d3e51d-511c-4a93-9c15-c1735c227c49",
   "metadata": {
    "tags": []
   },
   "outputs": [
    {
     "name": "stdout",
     "output_type": "stream",
     "text": [
      "                         Function  # People       Time  vs. Fastest\n",
      "4               get_people_values     10000   0.014453     1.000000\n",
      "3  get_people_select_related_only     10000   0.211937    14.663887\n",
      "2       get_people_select_related     10000   1.986562   137.449898\n",
      "1              get_people_qs_only     10000  14.585371  1009.159352\n",
      "0                get_people_naive     10000  17.166587  1187.753227\n"
     ]
    },
    {
     "data": {
      "image/png": "[encoded data removed]",
      "text/plain": [
       "<Figure size 1382.4x777.6 with 1 Axes>"
      ]
     },
     "metadata": {
      "needs_background": "light"
     },
     "output_type": "display_data"
    }
   ],
   "source": [
    "db_logger.setLevel(logging.WARNING)\n",
    "\n",
    "import seaborn as sns\n",
    "import pandas as pd\n",
    "import matplotlib.pyplot as plt\n",
    "\n",
    "import timeit\n",
    "from functools import partial\n",
    "\n",
    "def bench_people(trials, func, num_people):\n",
    "    if Person.objects.count() < num_people:\n",
    "        raise ValueError(\"You need to generate more people!\")\n",
    "\n",
    "    return min(\n",
    "        timeit.repeat(\n",
    "            partial(func, Person.objects.all()[:num_people]),\n",
    "            number=1,\n",
    "            repeat=trials,\n",
    "        )\n",
    "    )\n",
    "\n",
    "def plot_people(df):\n",
    "    fig, axes = plt.subplots(figsize=(19.2, 10.8))\n",
    "\n",
    "    ax = sns.barplot(data=df, y=\"Function\", x=\"Time\")\n",
    "    ax.set_title(f\"Time to List {df['# People'][0]} People, by Function\")\n",
    "    ax.bar_label(ax.containers[0], fmt='%.3f', padding=4)\n",
    "    # ax.set_xlim(0, 20)\n",
    "    fig.tight_layout()\n",
    "\n",
    "to_test = [\n",
    "    get_people_naive,\n",
    "    get_people_qs_only,\n",
    "    get_people_select_related,\n",
    "    get_people_select_related_only,\n",
    "    get_people_values,\n",
    "]\n",
    "\n",
    "num_trials = 2\n",
    "num_people = 10_000\n",
    "results = [\n",
    "    (\n",
    "        func.__name__,\n",
    "        num_people,\n",
    "        bench_people(num_trials, func, num_people),\n",
    "    )\n",
    "    for func in to_test\n",
    "]\n",
    "df = pd.DataFrame(results, columns=[\"Function\", \"# People\", \"Time\"]).sort_values(\"Time\")\n",
    "df[\"vs. Fastest\"] = df[\"Time\"] / df[\"Time\"].min()\n",
    "print(df)\n",
    "plot_people(df)\n",
    "plt.show()"
   ]
  },
  {
   "cell_type": "markdown",
   "id": "8ac0e9de-42f7-4ed4-b1b3-775ef0033ade",
   "metadata": {},
   "source": [
    "As we can see, `get_people_values` is the fastest, by a wide margin"
   ]
  },
  {
   "cell_type": "markdown",
   "id": "7e8827ce-c0cb-4c04-9ad2-b130cbba3541",
   "metadata": {},
   "source": [
    "## Summary\n",
    "\n",
    "- Avoid the N+1 problem (unless you have concrete benchmarks telling you otherwise)\n",
    "    - When possible, use `QuerySet.values()`\n",
    "    - When you must use model instances, make use of `QuerySet.select_related()`\n",
    "    - Use `QuerySet.defer()` and `QuerySet.only()` _only_ if you have significant time savings (e.g. a massive `notes` field that you don't actually use...)"
   ]
  }
 ],
 "metadata": {
  "kernelspec": {
   "display_name": "Python 3 (ipykernel)",
   "language": "python",
   "name": "python3"
  },
  "language_info": {
   "codemirror_mode": {
    "name": "ipython",
    "version": 3
   },
   "file_extension": ".py",
   "mimetype": "text/x-python",
   "name": "python",
   "nbconvert_exporter": "python",
   "pygments_lexer": "ipython3",
   "version": "3.9.7"
  }
 },
 "nbformat": 4,
 "nbformat_minor": 5
}
