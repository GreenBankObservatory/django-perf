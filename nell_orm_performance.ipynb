{
 "cells": [
  {
   "cell_type": "markdown",
   "id": "6c805490-fe05-4d08-9096-f9c41dbae6b2",
   "metadata": {},
   "source": [
    "# DSS Performance Optimizations\n",
    "\n",
    "Thomas Chamberlin, Green Bank Observatory"
   ]
  },
  {
   "cell_type": "code",
   "execution_count": 1,
   "id": "525926ef-4202-450b-8e49-492232121380",
   "metadata": {
    "tags": []
   },
   "outputs": [],
   "source": [
    "import time\n",
    "import os\n",
    "\n",
    "os.environ[\"DJANGO_SETTINGS_MODULE\"] = \"nell.conf.development\"\n",
    "\n",
    "import django\n",
    "from django.db import connection\n",
    "django.setup()\n",
    "\n",
    "from scheduler.models import Project, Period, User\n",
    "\n",
    "# Disable errors about SynchronousOnlyOperation\n",
    "os.environ[\"DJANGO_ALLOW_ASYNC_UNSAFE\"] = \"true\"\n",
    "\n",
    "import sqlparse\n",
    "\n",
    "def query_profile(func):\n",
    "    def wrapper(*args, **kwargs):\n",
    "        num_initial_queries = len(connection.queries)\n",
    "        start_time = time.perf_counter()\n",
    "        ret = func(*args, **kwargs)\n",
    "        end_time = time.perf_counter()\n",
    "        num_final_queries = len(connection.queries)\n",
    "        num_queries = num_final_queries - num_initial_queries\n",
    "        total_query_time = sum(float(q[\"time\"]) for q in connection.queries[num_initial_queries:num_final_queries])\n",
    "        print(f\"{func.__name__}: {num_queries} quer{'y' if num_queries == 1 else 'ies'} in {total_query_time:.3f} seconds; {end_time - start_time:.4f} seconds total\")\n",
    "        return ret\n",
    "    return wrapper\n",
    "\n",
    "def query_profile_verbose(func):\n",
    "    def wrapper(*args, **kwargs):\n",
    "        num_initial_queries = len(connection.queries)\n",
    "        start_time = time.perf_counter()\n",
    "        ret = func(*args, **kwargs)\n",
    "        end_time = time.perf_counter()\n",
    "        num_final_queries = len(connection.queries)\n",
    "        num_queries = num_final_queries - num_initial_queries\n",
    "        total_query_time = sum(float(q[\"time\"]) for q in connection.queries[num_initial_queries:num_final_queries])\n",
    "        print(f\"{func.__name__}: {num_queries} quer{'y' if num_queries == 1 else 'ies'} in {total_query_time:.3f} seconds; {end_time - start_time:.4f} seconds total\")\n",
    "        for query in connection.queries[num_initial_queries:num_final_queries]:\n",
    "            print(sqlparse.format(query[\"sql\"], reindent=True, keyword_case='upper'))\n",
    "        return ret\n",
    "    return wrapper"
   ]
  },
  {
   "cell_type": "markdown",
   "id": "f444d062-9da4-4d34-b6ab-5d4c187feb11",
   "metadata": {},
   "source": [
    "## The DSS `scheduler` Models/ERD\n",
    "\n",
    "![DSS Scheduler Models ERD](./scheduler_erd.svg)"
   ]
  },
  {
   "cell_type": "markdown",
   "id": "e62cd723-6a84-4ea4-bb28-d4fcaf23d0b4",
   "metadata": {},
   "source": [
    "## Get Periods for Project\n",
    "\n",
    "A `Project` has logic to determine all of its `Period`s. This requires `O(n)` queries.\n",
    "\n",
    "Reminder: A `Project` has `Session`s, and a `Session` has `Period`s"
   ]
  },
  {
   "cell_type": "code",
   "execution_count": 15,
   "id": "481fa1fc-1a65-43df-abe9-412d6b9c0c5e",
   "metadata": {
    "scrolled": true,
    "tags": []
   },
   "outputs": [
    {
     "name": "stdout",
     "output_type": "stream",
     "text": [
      "getPeriods: 79 queries in 0.071 seconds; 0.1901 seconds total\n",
      "len(periods)=50\n"
     ]
    }
   ],
   "source": [
    "# scheduler.Project.getPeriods\n",
    "@query_profile\n",
    "def getPeriods(project):\n",
    "    \"\"\"What are the periods associated with this project, visible to observer?\"\"\"\n",
    "    return sorted(\n",
    "        [\n",
    "            p\n",
    "            # Pull EVERY Session object out of the DB (1 query)\n",
    "            for s in project.sesshun_set.all()\n",
    "            # The actual queries. (s.sesshun_set.count() queries)\n",
    "            for p in s.period_set.exclude(state__abbreviation=\"P\").exclude(\n",
    "                state__abbreviation=\"D\"\n",
    "            )\n",
    "        ],\n",
    "        # Sort list in Python, rather than in DB\n",
    "        key=lambda proposal: proposal.start\n",
    "    )\n",
    "\n",
    "project = Project.objects.get(pcode=\"GBT21B-996\")\n",
    "periods = getPeriods(project)\n",
    "print(f\"{len(periods)=}\")"
   ]
  },
  {
   "cell_type": "markdown",
   "id": "3b68be28-88f7-4ae3-bfdb-89c893492d30",
   "metadata": {},
   "source": [
    "This can easily be fixed with proper use of filters across relationships"
   ]
  },
  {
   "cell_type": "code",
   "execution_count": 3,
   "id": "12db4638-290a-4257-b5d5-aac55d690b42",
   "metadata": {},
   "outputs": [
    {
     "name": "stdout",
     "output_type": "stream",
     "text": [
      "getPeriods__fixed: 1 query in 0.003 seconds; 0.0081 seconds total\n",
      "SELECT \"periods\".\"id\",\n",
      "       \"periods\".\"session_id\",\n",
      "       \"periods\".\"accounting_id\",\n",
      "       \"periods\".\"state_id\",\n",
      "       \"periods\".\"start\",\n",
      "       \"periods\".\"duration\",\n",
      "       \"periods\".\"score\",\n",
      "       \"periods\".\"forecast\",\n",
      "       \"periods\".\"backup\",\n",
      "       \"periods\".\"moc\",\n",
      "       \"periods\".\"moc_ack\",\n",
      "       \"periods\".\"window_id\",\n",
      "       \"periods\".\"elective_id\",\n",
      "       \"periods\".\"last_notification\"\n",
      "FROM \"periods\"\n",
      "INNER JOIN \"sessions\" ON (\"periods\".\"session_id\" = \"sessions\".\"id\")\n",
      "LEFT OUTER JOIN \"period_states\" ON (\"periods\".\"state_id\" = \"period_states\".\"id\")\n",
      "WHERE (\"sessions\".\"project_id\" = 2336\n",
      "       AND NOT (\"period_states\".\"abbreviation\" IN ('P',\n",
      "                                                   'D')\n",
      "                AND \"period_states\".\"abbreviation\" IS NOT NULL))\n",
      "ORDER BY \"periods\".\"start\" ASC\n"
     ]
    }
   ],
   "source": [
    "# scheduler.Project.getPeriods\n",
    "@query_profile_verbose\n",
    "def getPeriods__fixed(project):\n",
    "    \"\"\"What are the periods associated with this project, vis. to observer?\"\"\"\n",
    "    # Convert to  list to force QS evaluation (this isn't in the real code)\n",
    "    return list(\n",
    "        Period.objects.filter(session__project=project)\n",
    "        .exclude(state__abbreviation__in=[\"P\", \"D\"])\n",
    "        .order_by(\"start\")\n",
    "    )\n",
    "\n",
    "project = Project.objects.get(pcode=\"GBT21B-996\")\n",
    "periods = getPeriods__fixed(project)"
   ]
  },
  {
   "cell_type": "markdown",
   "id": "6c7104da-b02b-4fd8-a148-22f93d3da330",
   "metadata": {},
   "source": [
    "## Is a User an Investigator for a given Project?\n",
    "\n",
    "Reminder: a `User` is an `Investigator` for some number of `Project`s"
   ]
  },
  {
   "cell_type": "code",
   "execution_count": 4,
   "id": "abaf3890-87a8-422f-8fb1-1a8ff3ea9612",
   "metadata": {},
   "outputs": [
    {
     "name": "stdout",
     "output_type": "stream",
     "text": [
      "Minter, Toney is linked to 73 Investigators\n",
      "isInvestigator: 74 queries in 0.064 seconds; 0.1137 seconds total\n"
     ]
    },
    {
     "data": {
      "text/plain": [
       "False"
      ]
     },
     "execution_count": 4,
     "metadata": {},
     "output_type": "execute_result"
    }
   ],
   "source": [
    "# scheduler.User.isInvestigator\n",
    "@query_profile\n",
    "def isInvestigator(user, pcode):\n",
    "    \"\"\"Is this user an investigator on the given project?\"\"\"\n",
    "    # Create a list of the pcodes for all Projects on which this User is an Investigator\n",
    "    return pcode in [i.project.pcode for i in user.investigator_set.all()]\n",
    "\n",
    "tm = User.objects.get(first_name=\"Toney\", last_name=\"Minter\")\n",
    "print(f\"{tm} is linked to {tm.investigator_set.count()} Investigators\")\n",
    "isInvestigator(tm, \"GBT21B-996\")"
   ]
  },
  {
   "cell_type": "code",
   "execution_count": 5,
   "id": "6eb2e7ee-b7c0-4298-ac0f-7b5521cf08a3",
   "metadata": {},
   "outputs": [
    {
     "name": "stdout",
     "output_type": "stream",
     "text": [
      "isInvestigator_fixed: 1 query in 0.001 seconds; 0.0021 seconds total\n",
      "SELECT (1) AS \"a\"\n",
      "FROM \"investigators\"\n",
      "INNER JOIN \"projects\" ON (\"investigators\".\"project_id\" = \"projects\".\"id\")\n",
      "WHERE (\"investigators\".\"user_id\" = 7\n",
      "       AND \"projects\".\"pcode\" = 'GBT21B-996')\n",
      "LIMIT 1\n"
     ]
    },
    {
     "data": {
      "text/plain": [
       "False"
      ]
     },
     "execution_count": 5,
     "metadata": {},
     "output_type": "execute_result"
    }
   ],
   "source": [
    "# scheduler.User.isInvestigator\n",
    "@query_profile_verbose\n",
    "def isInvestigator_fixed(user, pcode):\n",
    "    \"\"\"Is this user an investigator on the given project?\"\"\"\n",
    "    return user.investigator_set.filter(project__pcode=pcode).exists()\n",
    "\n",
    "tm = User.objects.get(first_name=\"Toney\", last_name=\"Minter\")\n",
    "isInvestigator_fixed(tm, \"GBT21B-996\")"
   ]
  },
  {
   "cell_type": "markdown",
   "id": "03678b56-8d0e-47fe-8870-e548cbbda497",
   "metadata": {
    "tags": []
   },
   "source": [
    "## Get Authors\n",
    "\n",
    "We're in the PHT now (moving away from the scheduler).\n",
    "\n",
    "A `Proposal` has some number of `Author`s\n",
    "\n",
    "There is a View in the PHT that simply serializes all `Author`s. In doing so, it generates N+1 queries."
   ]
  },
  {
   "cell_type": "code",
   "execution_count": 6,
   "id": "ef6d3576-74d8-4428-a1dc-a91b67245b28",
   "metadata": {
    "tags": []
   },
   "outputs": [
    {
     "name": "stdout",
     "output_type": "stream",
     "text": [
      "get_authors: 101 queries in 0.246 seconds; 0.3872 seconds total\n",
      "len(authors)=100\n"
     ]
    }
   ],
   "source": [
    "from pht.models import Author\n",
    "# Adapted from pht.views.pis\n",
    "@query_profile\n",
    "def get_authors():\n",
    "    authors = [\n",
    "        {\"id\": a.id, \"name\": a.getLastFirstName(), \"pcode\": a.proposal.pcode}\n",
    "        # Artifically limit to 100 Authors simply to keep total number of queries down\n",
    "        for a in Author.objects.all()[:100]\n",
    "    ]\n",
    "    return authors\n",
    "\n",
    "authors = get_authors()\n",
    "print(f\"{len(authors)=}\")\n",
    "\n",
    "Author.objects.values(\"id\", \"name\", \"pcode\")"
   ]
  },
  {
   "cell_type": "markdown",
   "id": "3c55bc83-358f-43c9-998d-755c7868bf24",
   "metadata": {
    "tags": []
   },
   "source": [
    "Django provides an easy way to get a \"list of dicts\" version of a `QuerySet`: `QuerySet.values()`. But we have a method call to `Author.getLastFirstName`, which complicates things. What is that doing?\n",
    "\n",
    "```python\n",
    "def getLastFirstName(self):\n",
    "    return \"%s, %s\" % (self.last_name, self.first_name)\n",
    "```\n",
    "\n",
    "Great, it's literally just concatenating the last and first names together (with separator characters). We can do this in the database via Django's `Concat` DB function."
   ]
  },
  {
   "cell_type": "code",
   "execution_count": 16,
   "id": "ef308f15-1423-454c-be17-f4982980bad1",
   "metadata": {},
   "outputs": [
    {
     "name": "stdout",
     "output_type": "stream",
     "text": [
      "get_authors: 1 query in 0.002 seconds; 0.0042 seconds total\n",
      "SELECT \"pht_authors\".\"id\",\n",
      "       \"pht_proposals\".\"pcode\" AS \"pcode\",\n",
      "       CONCAT(\"pht_authors\".\"last_name\", CONCAT(', ', \"pht_authors\".\"first_name\")) AS \"name\"\n",
      "FROM \"pht_authors\"\n",
      "INNER JOIN \"pht_proposals\" ON (\"pht_authors\".\"proposal_id\" = \"pht_proposals\".\"id\")\n",
      "LIMIT 100\n",
      "len(authors)=100\n"
     ]
    }
   ],
   "source": [
    "from pht.models import Author\n",
    "from django.db.models import F, Value\n",
    "from django.db.models.functions import Concat\n",
    "\n",
    "# Adapted from pht.views.pis\n",
    "@query_profile_verbose\n",
    "def get_authors():\n",
    "    authors = list(\n",
    "        Author.objects.annotate(\n",
    "            # Create a new column named pcode so the results dicts have the correct keys\n",
    "            pcode=F(\"proposal__pcode\"),\n",
    "            # Concatenate last name and first name together, with the required separators\n",
    "            name=Concat(F(\"last_name\"), Value(\", \"), F(\"first_name\")),\n",
    "        ).values(\"id\", \"name\", \"pcode\")[:100]\n",
    "    )\n",
    "    return authors\n",
    "\n",
    "authors = get_authors()\n",
    "print(f\"{len(authors)=}\")"
   ]
  },
  {
   "cell_type": "markdown",
   "id": "c032023a-dda3-41ec-8e26-166e4e4db0c6",
   "metadata": {},
   "source": [
    "## Get `Period`s in Time Range\n",
    "\n",
    "`scheduler.models.Period.in_time_range` is a method that returns the `Period`s in a given time range.\n",
    "```"
   ]
  },
  {
   "cell_type": "code",
   "execution_count": 8,
   "id": "d435feb4-6812-4d37-8065-31e08c7317ad",
   "metadata": {},
   "outputs": [
    {
     "name": "stdout",
     "output_type": "stream",
     "text": [
      "in_time_range: 268 queries in 0.062 seconds; 0.3139 seconds total\n",
      "len(periods)=244\n"
     ]
    }
   ],
   "source": [
    "from datetime import datetime, timedelta\n",
    "import pytz\n",
    "from scheduler.models import Period\n",
    "\n",
    "# Adapted from: scheduler.models.Period.in_time_range\n",
    "@query_profile\n",
    "def in_time_range(begin, end, ignore_deleted=True):\n",
    "    \"\"\"\n",
    "    Returns all periods in a time range, taking into account that periods\n",
    "    can overlap into the first day.\n",
    "    \"\"\"\n",
    "    ps = Period.objects.filter(start__gt=begin - timedelta(days=1), start__lt=end).order_by(\"start\")\n",
    "    ps = [p for p in ps if p.end() > begin]\n",
    "\n",
    "    if ignore_deleted:\n",
    "        ps = [p for p in ps if p.state.abbreviation != \"D\"]\n",
    "\n",
    "    return ps\n",
    "\n",
    "periods = in_time_range(begin=datetime(2018, 12, 1), end=datetime(2019, 1, 1))\n",
    "print(f\"{len(periods)=}\")"
   ]
  },
  {
   "cell_type": "markdown",
   "id": "40da8e72-9d3f-45e6-9a71-c87900615403",
   "metadata": {
    "tags": []
   },
   "source": [
    "Not great! We are making _way_ too many queries. It might seem like another simple solution: simply filter against the `end` field, like we're doing for `start`. But `end` _isn't a field_, it's a method! For reference, here are the relevant parts of the `Period` model:\n",
    "\n",
    "```python\n",
    "class Period(models.Model):\n",
    "    session = models.ForeignKey(\"Session\", on_delete=models.CASCADE)\n",
    "    start = models.DateTimeField(help_text=\"yyyy-mm-dd hh:mm\")\n",
    "    duration = models.FloatField(help_text=\"Hours\")\n",
    "\n",
    "    def end(self):\n",
    "        \"\"\"The period ends at start + duration.\"\"\"\n",
    "        return self.start + timedelta(hours=self.duration)\n",
    "```\n",
    "\n",
    "To work around this problem, we can _derive_ an `end` column at query-time using QuerySet annotations. However, the fact that `Period.duration` is a discrete number of hours, and not a proper \"duration\" field, complicates things.\n",
    "\n",
    "We end up using the `interval` function in PostgreSQL to convert the discrete hours to an interval type, and put this value into a new `end` column."
   ]
  },
  {
   "cell_type": "code",
   "execution_count": 9,
   "id": "7ec473a5-6814-40b0-967e-be13614d0ee4",
   "metadata": {},
   "outputs": [
    {
     "name": "stdout",
     "output_type": "stream",
     "text": [
      "in_time_range__fixed: 1 query in 0.012 seconds; 0.0230 seconds total\n",
      "SELECT \"periods\".\"id\",\n",
      "       \"periods\".\"session_id\",\n",
      "       \"periods\".\"accounting_id\",\n",
      "       \"periods\".\"state_id\",\n",
      "       \"periods\".\"start\",\n",
      "       \"periods\".\"duration\",\n",
      "       \"periods\".\"score\",\n",
      "       \"periods\".\"forecast\",\n",
      "       \"periods\".\"backup\",\n",
      "       \"periods\".\"moc\",\n",
      "       \"periods\".\"moc_ack\",\n",
      "       \"periods\".\"window_id\",\n",
      "       \"periods\".\"elective_id\",\n",
      "       \"periods\".\"last_notification\",\n",
      "       (\"periods\".\"start\" + \"periods\".\"duration\" * interval '1 hour') AS \"end\"\n",
      "FROM \"periods\"\n",
      "LEFT OUTER JOIN \"period_states\" ON (\"periods\".\"state_id\" = \"period_states\".\"id\")\n",
      "WHERE (\"periods\".\"start\" > '2018-11-30T00:00:00'::TIMESTAMP\n",
      "       AND \"periods\".\"start\" < '2019-01-01T00:00:00'::TIMESTAMP\n",
      "       AND (\"periods\".\"start\" + \"periods\".\"duration\" * interval '1 hour') > '2018-12-01T00:00:00'::TIMESTAMP\n",
      "       AND NOT (\"period_states\".\"abbreviation\" = 'D'\n",
      "                AND \"period_states\".\"abbreviation\" IS NOT NULL))\n",
      "ORDER BY \"periods\".\"start\" ASC\n",
      "len(periods)=244\n"
     ]
    }
   ],
   "source": [
    "from datetime import datetime, timedelta\n",
    "import pytz\n",
    "from django.db import models\n",
    "from scheduler.models import Period\n",
    "\n",
    "# Our custom DB Function\n",
    "class Hours(models.Func):\n",
    "    \"\"\"Convert a \"number of hours\" column into an proper interval type\"\"\"\n",
    "\n",
    "    function = \"interval\"\n",
    "    template = \"%(expressions)s * %(function)s '1 hour'\"\n",
    "\n",
    "# Adapted from: scheduler.models.Period.in_time_range\n",
    "@query_profile_verbose\n",
    "def in_time_range__fixed(begin, end, ignore_deleted=True):\n",
    "    \"\"\"\n",
    "    Returns all periods in a time range, taking into account that periods\n",
    "    can overlap into the first day.\n",
    "    \"\"\"\n",
    "    ps = (\n",
    "        Period.objects.annotate(\n",
    "            end=models.F(\"start\")\n",
    "            + Hours(models.F(\"duration\"), output_field=models.DateTimeField())\n",
    "        )\n",
    "        .filter(start__gt=begin - timedelta(days=1), start__lt=end)\n",
    "        .filter(end__gt=begin)\n",
    "        .order_by(\"start\")\n",
    "    )\n",
    "\n",
    "    if ignore_deleted:\n",
    "        ps = ps.exclude(state__abbreviation=\"D\")\n",
    "\n",
    "    return list(ps)\n",
    "\n",
    "periods = in_time_range__fixed(begin=datetime(2018, 12, 1), end=datetime(2019, 1, 1))\n",
    "print(f\"{len(periods)=}\")"
   ]
  },
  {
   "cell_type": "markdown",
   "id": "079de27a-75bc-459a-b385-faeb93abe49b",
   "metadata": {},
   "source": [
    "## Get Unique Telescopes\n",
    "\n",
    "The OpsLog Shift Summary tool includes code that derives all of the unique `Telescope`s from a given set of `Entry` objects. This ends up being `2N+1` queries"
   ]
  },
  {
   "cell_type": "code",
   "execution_count": 10,
   "id": "30272954-cc69-4562-bbbd-e879a9ec8cb7",
   "metadata": {},
   "outputs": [
    {
     "name": "stdout",
     "output_type": "stream",
     "text": [
      "get_unique_telescopes_from_entries: 201 queries in 0.061 seconds; 0.2278 seconds total\n",
      "telescopes={<Telescope: GBT>, <Telescope: ALL>}\n"
     ]
    }
   ],
   "source": [
    "from ops.models import Entry, Telescope\n",
    "\n",
    "# Adapted from ops.tools.SummaryHtml.ShiftSummaryHtml._makeLostTimeSection\n",
    "@query_profile\n",
    "def get_unique_telescopes_from_entries(entries):\n",
    "    telescopes = set(\n",
    "        [\n",
    "            e.telescope\n",
    "            for e in entries\n",
    "            if (e is not Telescope.objects.get(name=\"ALL\"))\n",
    "            and (e.telescope is not None)\n",
    "        ]\n",
    "    )\n",
    "    return telescopes\n",
    "\n",
    "entries = Entry.objects.all()[:100]\n",
    "telescopes = get_unique_telescopes_from_entries(entries)\n",
    "print(f\"{telescopes=}\")"
   ]
  },
  {
   "cell_type": "markdown",
   "id": "0c42e733-6ba4-4ea0-809f-aad43e4a936c",
   "metadata": {},
   "source": [
    "This can easily be fixed by using `QuerySet.distinct()` and some nested `QuerySet`s"
   ]
  },
  {
   "cell_type": "code",
   "execution_count": 11,
   "id": "a651bbe0-7859-451c-9468-f3a5450d4bac",
   "metadata": {},
   "outputs": [
    {
     "name": "stdout",
     "output_type": "stream",
     "text": [
      "get_unique_telescopes_from_entries__fixed: 1 query in 0.062 seconds; 0.0650 seconds total\n",
      "SELECT DISTINCT \"ops_telescope\".\"id\",\n",
      "                \"ops_telescope\".\"name\"\n",
      "FROM \"ops_telescope\"\n",
      "INNER JOIN \"ops_entry\" ON (\"ops_telescope\".\"id\" = \"ops_entry\".\"telescope_id\")\n",
      "WHERE \"ops_entry\".\"id\" IN\n",
      "    (SELECT V0.\"id\"\n",
      "     FROM \"ops_entry\" V0\n",
      "     LEFT OUTER JOIN \"ops_telescope\" V1 ON (V0.\"telescope_id\" = V1.\"id\")\n",
      "     WHERE (V0.\"id\" IN\n",
      "              (SELECT \"ops_entry\".\"id\"\n",
      "               FROM \"ops_entry\"\n",
      "               LIMIT 1000)\n",
      "            AND NOT (V1.\"name\" = 'ALL'\n",
      "                     AND V1.\"name\" IS NOT NULL)))\n",
      "telescopes=[<Telescope: 140'>, <Telescope: GBT>]\n"
     ]
    }
   ],
   "source": [
    "from ops.models import Entry, Telescope\n",
    "\n",
    "# Adapted from ops.tools.SummaryHtml.ShiftSummaryHtml._makeLostTimeSection\n",
    "@query_profile_verbose\n",
    "def get_unique_telescopes_from_entries__fixed(entries):\n",
    "    telescopes = Telescope.objects.filter(entry__in=entries.exclude(telescope__name=\"ALL\")).distinct()\n",
    "    return list(telescopes)\n",
    "\n",
    "entries = Entry.objects.filter(id__in=Entry.objects.all()[:1000])\n",
    "telescopes = get_unique_telescopes_from_entries__fixed(entries)\n",
    "print(f\"{telescopes=}\")"
   ]
  },
  {
   "cell_type": "markdown",
   "id": "40a9b9a2-debf-4c45-82ba-1c1eb91a0592",
   "metadata": {
    "tags": []
   },
   "source": [
    "## Convert Periods to iCal Events\n",
    "\n",
    "The `IcalMap` contains logic for converting `scheduler` `Period`s into `icalendar` `Event`s. Unfortunately, it was taking `4n+1` (`O(n)`) queries to do so."
   ]
  },
  {
   "cell_type": "code",
   "execution_count": 12,
   "id": "b39cb430-2280-4eb4-9420-bb42877e11f1",
   "metadata": {},
   "outputs": [
    {
     "name": "stdout",
     "output_type": "stream",
     "text": [
      "convert_periods_to_events: 197 queries in 0.130 seconds; 0.3449 seconds total\n",
      "len(events)=49\n"
     ]
    }
   ],
   "source": [
    "from datetime import datetime, timedelta\n",
    "from pytz import UTC\n",
    "from icalendar import Calendar, Event\n",
    "from scheduler.models import User\n",
    "\n",
    "def createPeriodEvent(period):\n",
    "        event = Event()\n",
    "        event[\"uid\"] = str(period.id) + \"periodofgbtdss\"\n",
    "        start = datetime(\n",
    "            period.start.year,\n",
    "            period.start.month,\n",
    "            period.start.day,\n",
    "            period.start.hour,\n",
    "            period.start.minute,\n",
    "            period.start.second,\n",
    "            tzinfo=UTC,\n",
    "        )\n",
    "        event.add(\"dtstart\", start)\n",
    "        event.add(\"dtend\", start + timedelta(hours=period.duration))\n",
    "        event.add(\"dtstamp\", datetime.utcnow())\n",
    "        name = (\n",
    "            period.session.project.pcode in period.session.name\n",
    "            and period.session.name\n",
    "            or (period.session.name + \" of \" + period.session.project.pcode)\n",
    "        )\n",
    "        event.add(\n",
    "            \"summary\",\n",
    "            \"%s at %.3f GHz (%s UTC)\"\n",
    "            % (name, period.session.frequency, start.strftime(\"%Y/%m/%d %H:%M\")),\n",
    "        )\n",
    "        event.add(\n",
    "            \"description\",\n",
    "            \"%s. This telescope period has a duration of %.2f hours. The receiver requirements for this telescope period are %s. The cover page containing all project details is at http://gbrescal.gb.nrao.edu/gbtobs/proposals.dbw?view=viewproposal&propcode=%s\"\n",
    "            % (\n",
    "                period.session.project.name,\n",
    "                period.duration,\n",
    "                period.session.receiver_list(),\n",
    "                period.session.project.pcode,\n",
    "            ),\n",
    "        )\n",
    "        event.add(\"priority\", 9)\n",
    "\n",
    "        return event\n",
    "\n",
    "# Adapted from tools.IcalMap.IcalMap.__init__\n",
    "def get_future_scheduled_periods(user):\n",
    "    periods = (\n",
    "        user.getPeriods()\n",
    "        .filter(state__abbreviation=\"S\", start__gte=datetime.now())\n",
    "        .order_by(\"start\")\n",
    "    )\n",
    "    return periods\n",
    "\n",
    "@query_profile\n",
    "def convert_periods_to_events(user):\n",
    "    periods = get_future_scheduled_periods(user)\n",
    "    events = [createPeriodEvent(period) for period in periods]\n",
    "    return events\n",
    "\n",
    "tm = User.objects.get(first_name=\"Toney\", last_name=\"Minter\")\n",
    "events = convert_periods_to_events(tm)\n",
    "print(f\"{len(events)=}\")"
   ]
  },
  {
   "cell_type": "code",
   "execution_count": 14,
   "id": "3f536d36-cf0c-4206-8146-8d0a9f6b9994",
   "metadata": {
    "tags": []
   },
   "outputs": [
    {
     "name": "stdout",
     "output_type": "stream",
     "text": [
      "convert_periods_to_events: 3 queries in 0.013 seconds; 0.0427 seconds total\n",
      "SELECT \"periods\".\"id\",\n",
      "       \"periods\".\"session_id\",\n",
      "       \"periods\".\"accounting_id\",\n",
      "       \"periods\".\"state_id\",\n",
      "       \"periods\".\"start\",\n",
      "       \"periods\".\"duration\",\n",
      "       \"periods\".\"score\",\n",
      "       \"periods\".\"forecast\",\n",
      "       \"periods\".\"backup\",\n",
      "       \"periods\".\"moc\",\n",
      "       \"periods\".\"moc_ack\",\n",
      "       \"periods\".\"window_id\",\n",
      "       \"periods\".\"elective_id\",\n",
      "       \"periods\".\"last_notification\",\n",
      "       \"sessions\".\"id\",\n",
      "       \"sessions\".\"project_id\",\n",
      "       \"sessions\".\"session_type_id\",\n",
      "       \"sessions\".\"observing_type_id\",\n",
      "       \"sessions\".\"allotment_id\",\n",
      "       \"sessions\".\"status_id\",\n",
      "       \"sessions\".\"original_id\",\n",
      "       \"sessions\".\"name\",\n",
      "       \"sessions\".\"frequency\",\n",
      "       \"sessions\".\"max_duration\",\n",
      "       \"sessions\".\"min_duration\",\n",
      "       \"sessions\".\"time_between\",\n",
      "       \"sessions\".\"accounting_notes\",\n",
      "       \"sessions\".\"notes\",\n",
      "       \"projects\".\"id\",\n",
      "       \"projects\".\"semester_id\",\n",
      "       \"projects\".\"project_type_id\",\n",
      "       \"projects\".\"sponsor_id\",\n",
      "       \"projects\".\"external_id\",\n",
      "       \"projects\".\"pcode\",\n",
      "       \"projects\".\"name\",\n",
      "       \"projects\".\"thesis\",\n",
      "       \"projects\".\"complete\",\n",
      "       \"projects\".\"blackouts\",\n",
      "       \"projects\".\"start_date\",\n",
      "       \"projects\".\"end_date\",\n",
      "       \"projects\".\"accounting_notes\",\n",
      "       \"projects\".\"notes\",\n",
      "       \"projects\".\"schedulers_notes\",\n",
      "       \"projects\".\"disposition\",\n",
      "       \"projects\".\"abstract\"\n",
      "FROM \"periods\"\n",
      "INNER JOIN \"sessions\" ON (\"periods\".\"session_id\" = \"sessions\".\"id\")\n",
      "INNER JOIN \"projects\" ON (\"sessions\".\"project_id\" = \"projects\".\"id\")\n",
      "INNER JOIN \"investigators\" ON (\"projects\".\"id\" = \"investigators\".\"project_id\")\n",
      "INNER JOIN \"period_states\" ON (\"periods\".\"state_id\" = \"period_states\".\"id\")\n",
      "WHERE (\"investigators\".\"user_id\" = 7\n",
      "       AND NOT (\"period_states\".\"abbreviation\" IN ('P',\n",
      "                                                   'D')\n",
      "                AND \"period_states\".\"abbreviation\" IS NOT NULL)\n",
      "       AND \"periods\".\"start\" >= '2021-11-17T13:47:40.146033'::TIMESTAMP\n",
      "       AND \"period_states\".\"abbreviation\" = 'S')\n",
      "ORDER BY \"periods\".\"start\" ASC\n",
      "SELECT \"receiver_groups\".\"id\",\n",
      "       \"receiver_groups\".\"session_id\"\n",
      "FROM \"receiver_groups\"\n",
      "WHERE \"receiver_groups\".\"session_id\" IN (597,\n",
      "                                         352)\n",
      "SELECT (\"receiver_groups_receivers\".\"receiver_group_id\") AS \"_prefetch_related_val_receiver_group_id\",\n",
      "       \"receivers\".\"id\",\n",
      "       \"receivers\".\"name\",\n",
      "       \"receivers\".\"abbreviation\",\n",
      "       \"receivers\".\"freq_low\",\n",
      "       \"receivers\".\"freq_hi\",\n",
      "       \"receivers\".\"available\",\n",
      "       \"receivers\".\"deleted\"\n",
      "FROM \"receivers\"\n",
      "INNER JOIN \"receiver_groups_receivers\" ON (\"receivers\".\"id\" = \"receiver_groups_receivers\".\"receiver_id\")\n",
      "WHERE \"receiver_groups_receivers\".\"receiver_group_id\" IN (7553,\n",
      "                                                          23377)\n",
      "len(events)=49\n"
     ]
    }
   ],
   "source": [
    "@query_profile_verbose\n",
    "def convert_periods_to_events(user):\n",
    "    periods = get_future_scheduled_periods(user)\n",
    "    periods = periods.select_related(\"session__project\").prefetch_related(\"session__receiver_group_set__receivers\")\n",
    "    events = [createPeriodEvent(period) for period in periods]\n",
    "    return events\n",
    "\n",
    "tm = User.objects.get(first_name=\"Toney\", last_name=\"Minter\")\n",
    "events = convert_periods_to_events(tm)\n",
    "print(f\"{len(events)=}\")"
   ]
  }
 ],
 "metadata": {
  "kernelspec": {
   "display_name": "Python 3 (ipykernel)",
   "language": "python",
   "name": "python3"
  },
  "language_info": {
   "codemirror_mode": {
    "name": "ipython",
    "version": 3
   },
   "file_extension": ".py",
   "mimetype": "text/x-python",
   "name": "python",
   "nbconvert_exporter": "python",
   "pygments_lexer": "ipython3",
   "version": "3.8.6"
  },
  "toc-autonumbering": false,
  "toc-showcode": false,
  "toc-showmarkdowntxt": false,
  "toc-showtags": false
 },
 "nbformat": 4,
 "nbformat_minor": 5
}
